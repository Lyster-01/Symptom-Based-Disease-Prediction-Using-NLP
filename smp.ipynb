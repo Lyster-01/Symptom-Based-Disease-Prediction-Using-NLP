{
 "cells": [
  {
   "cell_type": "code",
   "execution_count": 20,
   "id": "75519602",
   "metadata": {},
   "outputs": [],
   "source": [
    "import pandas as pd \n",
    "import numpy as np\n",
    "#modelling libraries \n",
    "from sklearn.model_selection import GridSearchCV\n",
    "from sklearn.pipeline import Pipeline\n",
    "from sklearn.preprocessing import LabelEncoder\n",
    "from sklearn.metrics import  accuracy_score,precision_score,recall_score,classification_report\n",
    "from sklearn.model_selection import train_test_split\n",
    "from sklearn.tree import DecisionTreeClassifier\n",
    "from sklearn.ensemble import  RandomForestClassifier\n",
    "from sklearn.linear_model import LogisticRegression\n",
    "from sklearn import metrics \n",
    "from sklearn.feature_extraction.text import CountVectorizer, TfidfVectorizer\n",
    "\n"
   ]
  },
  {
   "cell_type": "code",
   "execution_count": 2,
   "id": "22eb9947",
   "metadata": {},
   "outputs": [],
   "source": [
    "# from xgboost import XgboostClassifier \n"
   ]
  },
  {
   "cell_type": "code",
   "execution_count": 3,
   "id": "1912e9e8",
   "metadata": {},
   "outputs": [
    {
     "data": {
      "text/html": [
       "<div>\n",
       "<style scoped>\n",
       "    .dataframe tbody tr th:only-of-type {\n",
       "        vertical-align: middle;\n",
       "    }\n",
       "\n",
       "    .dataframe tbody tr th {\n",
       "        vertical-align: top;\n",
       "    }\n",
       "\n",
       "    .dataframe thead th {\n",
       "        text-align: right;\n",
       "    }\n",
       "</style>\n",
       "<table border=\"1\" class=\"dataframe\">\n",
       "  <thead>\n",
       "    <tr style=\"text-align: right;\">\n",
       "      <th></th>\n",
       "      <th>Unnamed: 0</th>\n",
       "      <th>label</th>\n",
       "      <th>text</th>\n",
       "    </tr>\n",
       "  </thead>\n",
       "  <tbody>\n",
       "    <tr>\n",
       "      <th>0</th>\n",
       "      <td>0</td>\n",
       "      <td>Psoriasis</td>\n",
       "      <td>I have been experiencing a skin rash on my arm...</td>\n",
       "    </tr>\n",
       "    <tr>\n",
       "      <th>1</th>\n",
       "      <td>1</td>\n",
       "      <td>Psoriasis</td>\n",
       "      <td>My skin has been peeling, especially on my kne...</td>\n",
       "    </tr>\n",
       "    <tr>\n",
       "      <th>2</th>\n",
       "      <td>2</td>\n",
       "      <td>Psoriasis</td>\n",
       "      <td>I have been experiencing joint pain in my fing...</td>\n",
       "    </tr>\n",
       "    <tr>\n",
       "      <th>3</th>\n",
       "      <td>3</td>\n",
       "      <td>Psoriasis</td>\n",
       "      <td>There is a silver like dusting on my skin, esp...</td>\n",
       "    </tr>\n",
       "    <tr>\n",
       "      <th>4</th>\n",
       "      <td>4</td>\n",
       "      <td>Psoriasis</td>\n",
       "      <td>My nails have small dents or pits in them, and...</td>\n",
       "    </tr>\n",
       "  </tbody>\n",
       "</table>\n",
       "</div>"
      ],
      "text/plain": [
       "   Unnamed: 0      label                                               text\n",
       "0           0  Psoriasis  I have been experiencing a skin rash on my arm...\n",
       "1           1  Psoriasis  My skin has been peeling, especially on my kne...\n",
       "2           2  Psoriasis  I have been experiencing joint pain in my fing...\n",
       "3           3  Psoriasis  There is a silver like dusting on my skin, esp...\n",
       "4           4  Psoriasis  My nails have small dents or pits in them, and..."
      ]
     },
     "execution_count": 3,
     "metadata": {},
     "output_type": "execute_result"
    }
   ],
   "source": [
    "df = pd.read_csv('Symptom2Disease.csv',index_col= False)\n",
    "df.head()"
   ]
  },
  {
   "cell_type": "code",
   "execution_count": 4,
   "id": "fed913c4",
   "metadata": {},
   "outputs": [
    {
     "data": {
      "text/plain": [
       "0"
      ]
     },
     "execution_count": 4,
     "metadata": {},
     "output_type": "execute_result"
    }
   ],
   "source": [
    "df.duplicated().sum()"
   ]
  },
  {
   "cell_type": "markdown",
   "id": "28295523",
   "metadata": {},
   "source": [
    "Drop the unnecessary column from the dataframe ie 'Unnamed: 0'"
   ]
  },
  {
   "cell_type": "code",
   "execution_count": 5,
   "id": "91b175ff",
   "metadata": {},
   "outputs": [
    {
     "data": {
      "text/plain": [
       "Index(['label', 'text'], dtype='object')"
      ]
     },
     "execution_count": 5,
     "metadata": {},
     "output_type": "execute_result"
    }
   ],
   "source": [
    "df = df.drop(columns = [\"Unnamed: 0\"])\n",
    "df.columns"
   ]
  },
  {
   "cell_type": "code",
   "execution_count": 6,
   "id": "4635611f",
   "metadata": {},
   "outputs": [],
   "source": [
    "\n",
    "\n",
    "def df_report(df):\n",
    "    \"\"\"\n",
    "    Generate a quick report of the dataframe including:\n",
    "    - Shape\n",
    "    - Missing values\n",
    "    - Duplicate rows\n",
    "    - Summary statistics\n",
    "    \"\"\"\n",
    "    \n",
    "    print(\"📊 DataFrame Report\")\n",
    "    print(\"-\" * 40)\n",
    "    \n",
    "    #Basic Information\n",
    "    print('This is the basic information of the dataset \\n')\n",
    "    print(df.info())\n",
    "    \n",
    "    # Shape\n",
    "    print(f\"Shape: {df.shape[0]} rows × {df.shape[1]} columns\\n\")\n",
    "    \n",
    "    # Missing values\n",
    "    print(\"🔍 Missing Values (per column):\")\n",
    "    print(df.isnull().sum(), \"\\n\")\n",
    "    \n",
    "    # Duplicates\n",
    "    print(f\"📝 Duplicate Rows: {df.duplicated().sum()} \\n\")\n",
    "    \n",
    "    # Summary statistics\n",
    "    print(\"📈 Summary Statistics:\")\n",
    "    print(df.describe(include=\"all\").transpose())\n"
   ]
  },
  {
   "cell_type": "code",
   "execution_count": 7,
   "id": "4e2c0d91",
   "metadata": {},
   "outputs": [
    {
     "name": "stdout",
     "output_type": "stream",
     "text": [
      "📊 DataFrame Report\n",
      "----------------------------------------\n",
      "This is the basic information of the dataset \n",
      "\n",
      "<class 'pandas.core.frame.DataFrame'>\n",
      "RangeIndex: 1200 entries, 0 to 1199\n",
      "Data columns (total 2 columns):\n",
      " #   Column  Non-Null Count  Dtype \n",
      "---  ------  --------------  ----- \n",
      " 0   label   1200 non-null   object\n",
      " 1   text    1200 non-null   object\n",
      "dtypes: object(2)\n",
      "memory usage: 18.9+ KB\n",
      "None\n",
      "Shape: 1200 rows × 2 columns\n",
      "\n",
      "🔍 Missing Values (per column):\n",
      "label    0\n",
      "text     0\n",
      "dtype: int64 \n",
      "\n",
      "📝 Duplicate Rows: 47 \n",
      "\n",
      "📈 Summary Statistics:\n",
      "      count unique                                                top freq\n",
      "label  1200     24                                          Psoriasis   50\n",
      "text   1200   1153  I've been feeling extremely scratchy, sick, an...    4\n"
     ]
    }
   ],
   "source": [
    "df_report(df)"
   ]
  },
  {
   "cell_type": "code",
   "execution_count": 8,
   "id": "924998a7",
   "metadata": {},
   "outputs": [],
   "source": [
    "import re\n",
    "from nltk.corpus import stopwords\n",
    "from nltk.tokenize import word_tokenize\n",
    "from nltk.stem import WordNetLemmatizer\n",
    "\n",
    "class TextPreprocessor:\n",
    "    def __init__(self):\n",
    "        self.stop_words = set(stopwords.words('english'))\n",
    "        self.lemmatizer = WordNetLemmatizer()\n",
    "\n",
    "    def generate_text_features(self, df, text_column):\n",
    "        \"\"\"\n",
    "        Adds character count, word count, and sentence count columns.\n",
    "        \"\"\"\n",
    "        df.loc[:, 'char_count'] = df[text_column].astype(str).apply(len)\n",
    "        df.loc[:, 'word_count'] = df[text_column].astype(str).apply(lambda x: len(x.split()))\n",
    "        df.loc[:, 'sentence_count'] = df[text_column].astype(str).apply(lambda x: x.count('.') + 1)\n",
    "        return df\n",
    "\n",
    "    def clean_text(self, text):\n",
    "        \"\"\"\n",
    "        Cleans text: lowercase, remove URLs, hashtags, emojis, punctuation, numbers, and extra spaces.\n",
    "        \"\"\"\n",
    "        text = text.lower()\n",
    "        text = re.sub(r\"http\\S+|www\\S+|https\\S+\", '', text)\n",
    "        text = re.sub(r\"#\\w+\", '', text)\n",
    "\n",
    "        # Remove emojis\n",
    "        emoji_pattern = re.compile(\n",
    "            \"[\"\n",
    "            u\"\\U0001F600-\\U0001F64F\"  # emoticons\n",
    "            u\"\\U0001F300-\\U0001F5FF\"  # symbols & pictographs\n",
    "            u\"\\U0001F680-\\U0001F6FF\"  # transport & map symbols\n",
    "            u\"\\U0001F1E0-\\U0001F1FF\"  # flags\n",
    "            u\"\\U00002700-\\U000027BF\"  # Dingbats\n",
    "            u\"\\U000024C2-\\U0001F251\"\n",
    "            \"]+\", flags=re.UNICODE\n",
    "        )\n",
    "        text = emoji_pattern.sub(r'', text)\n",
    "\n",
    "        text = re.sub(r'\\d+', '', text)\n",
    "        text = re.sub(r'[^\\w\\s]', '', text)\n",
    "        text = re.sub(r'\\s+', ' ', text).strip()\n",
    "        return text\n",
    "\n",
    "    def tokenize(self, text):\n",
    "        \"\"\"\n",
    "        Tokenizes and removes stopwords.\n",
    "        \"\"\"\n",
    "        tokens = word_tokenize(text)\n",
    "        return [t for t in tokens if t not in self.stop_words]\n",
    "\n",
    "    def lemmatize(self, tokens):\n",
    "        \"\"\"\n",
    "        Lemmatizes a list of tokens.\n",
    "        \"\"\"\n",
    "        return [self.lemmatizer.lemmatize(t) for t in tokens]\n",
    "\n",
    "    def preprocess(self, df, text_column):\n",
    "        \"\"\"\n",
    "        Full preprocessing:\n",
    "        - Feature engineering\n",
    "        - Text cleaning\n",
    "        - Tokenization\n",
    "        - Lemmatization\n",
    "        - Save cleaned text, tokens, lemmatized tokens, and document string (from tokens)\n",
    "        \"\"\"\n",
    "        df = df.copy() \n",
    "\n",
    "        df = self.generate_text_features(df, text_column)\n",
    "        df.loc[:, 'cleaned_text'] = df[text_column].astype(str).apply(self.clean_text)\n",
    "        df.loc[:, 'tokenized_text'] = df['cleaned_text'].apply(self.tokenize)\n",
    "        df.loc[:, 'lemmatized_text'] = df['tokenized_text'].apply(self.lemmatize)\n",
    "        df.loc[:, 'document'] = df['tokenized_text'].apply(lambda x: ' '.join(x))\n",
    "\n",
    "        return df"
   ]
  },
  {
   "cell_type": "code",
   "execution_count": 9,
   "id": "c976f716",
   "metadata": {},
   "outputs": [
    {
     "data": {
      "text/html": [
       "<div>\n",
       "<style scoped>\n",
       "    .dataframe tbody tr th:only-of-type {\n",
       "        vertical-align: middle;\n",
       "    }\n",
       "\n",
       "    .dataframe tbody tr th {\n",
       "        vertical-align: top;\n",
       "    }\n",
       "\n",
       "    .dataframe thead th {\n",
       "        text-align: right;\n",
       "    }\n",
       "</style>\n",
       "<table border=\"1\" class=\"dataframe\">\n",
       "  <thead>\n",
       "    <tr style=\"text-align: right;\">\n",
       "      <th></th>\n",
       "      <th>label</th>\n",
       "      <th>text</th>\n",
       "    </tr>\n",
       "  </thead>\n",
       "  <tbody>\n",
       "    <tr>\n",
       "      <th>0</th>\n",
       "      <td>Psoriasis</td>\n",
       "      <td>I have been experiencing a skin rash on my arm...</td>\n",
       "    </tr>\n",
       "    <tr>\n",
       "      <th>1</th>\n",
       "      <td>Psoriasis</td>\n",
       "      <td>My skin has been peeling, especially on my kne...</td>\n",
       "    </tr>\n",
       "    <tr>\n",
       "      <th>2</th>\n",
       "      <td>Psoriasis</td>\n",
       "      <td>I have been experiencing joint pain in my fing...</td>\n",
       "    </tr>\n",
       "    <tr>\n",
       "      <th>3</th>\n",
       "      <td>Psoriasis</td>\n",
       "      <td>There is a silver like dusting on my skin, esp...</td>\n",
       "    </tr>\n",
       "    <tr>\n",
       "      <th>4</th>\n",
       "      <td>Psoriasis</td>\n",
       "      <td>My nails have small dents or pits in them, and...</td>\n",
       "    </tr>\n",
       "  </tbody>\n",
       "</table>\n",
       "</div>"
      ],
      "text/plain": [
       "       label                                               text\n",
       "0  Psoriasis  I have been experiencing a skin rash on my arm...\n",
       "1  Psoriasis  My skin has been peeling, especially on my kne...\n",
       "2  Psoriasis  I have been experiencing joint pain in my fing...\n",
       "3  Psoriasis  There is a silver like dusting on my skin, esp...\n",
       "4  Psoriasis  My nails have small dents or pits in them, and..."
      ]
     },
     "execution_count": 9,
     "metadata": {},
     "output_type": "execute_result"
    }
   ],
   "source": [
    "df.head()"
   ]
  },
  {
   "cell_type": "code",
   "execution_count": 10,
   "id": "b50583fb",
   "metadata": {},
   "outputs": [],
   "source": [
    "preprocessor = TextPreprocessor()\n",
    "data = preprocessor.preprocess(df,\"text\")"
   ]
  },
  {
   "cell_type": "code",
   "execution_count": 11,
   "id": "17237b85",
   "metadata": {},
   "outputs": [
    {
     "data": {
      "text/html": [
       "<div>\n",
       "<style scoped>\n",
       "    .dataframe tbody tr th:only-of-type {\n",
       "        vertical-align: middle;\n",
       "    }\n",
       "\n",
       "    .dataframe tbody tr th {\n",
       "        vertical-align: top;\n",
       "    }\n",
       "\n",
       "    .dataframe thead th {\n",
       "        text-align: right;\n",
       "    }\n",
       "</style>\n",
       "<table border=\"1\" class=\"dataframe\">\n",
       "  <thead>\n",
       "    <tr style=\"text-align: right;\">\n",
       "      <th></th>\n",
       "      <th>label</th>\n",
       "      <th>text</th>\n",
       "      <th>char_count</th>\n",
       "      <th>word_count</th>\n",
       "      <th>sentence_count</th>\n",
       "      <th>cleaned_text</th>\n",
       "      <th>tokenized_text</th>\n",
       "      <th>lemmatized_text</th>\n",
       "      <th>document</th>\n",
       "    </tr>\n",
       "  </thead>\n",
       "  <tbody>\n",
       "    <tr>\n",
       "      <th>0</th>\n",
       "      <td>Psoriasis</td>\n",
       "      <td>I have been experiencing a skin rash on my arm...</td>\n",
       "      <td>141</td>\n",
       "      <td>28</td>\n",
       "      <td>3</td>\n",
       "      <td>i have been experiencing a skin rash on my arm...</td>\n",
       "      <td>[experiencing, skin, rash, arms, legs, torso, ...</td>\n",
       "      <td>[experiencing, skin, rash, arm, leg, torso, pa...</td>\n",
       "      <td>experiencing skin rash arms legs torso past we...</td>\n",
       "    </tr>\n",
       "    <tr>\n",
       "      <th>1</th>\n",
       "      <td>Psoriasis</td>\n",
       "      <td>My skin has been peeling, especially on my kne...</td>\n",
       "      <td>138</td>\n",
       "      <td>23</td>\n",
       "      <td>3</td>\n",
       "      <td>my skin has been peeling especially on my knee...</td>\n",
       "      <td>[skin, peeling, especially, knees, elbows, sca...</td>\n",
       "      <td>[skin, peeling, especially, knee, elbow, scalp...</td>\n",
       "      <td>skin peeling especially knees elbows scalp pee...</td>\n",
       "    </tr>\n",
       "    <tr>\n",
       "      <th>2</th>\n",
       "      <td>Psoriasis</td>\n",
       "      <td>I have been experiencing joint pain in my fing...</td>\n",
       "      <td>148</td>\n",
       "      <td>28</td>\n",
       "      <td>3</td>\n",
       "      <td>i have been experiencing joint pain in my fing...</td>\n",
       "      <td>[experiencing, joint, pain, fingers, wrists, k...</td>\n",
       "      <td>[experiencing, joint, pain, finger, wrist, kne...</td>\n",
       "      <td>experiencing joint pain fingers wrists knees p...</td>\n",
       "    </tr>\n",
       "    <tr>\n",
       "      <th>3</th>\n",
       "      <td>Psoriasis</td>\n",
       "      <td>There is a silver like dusting on my skin, esp...</td>\n",
       "      <td>164</td>\n",
       "      <td>32</td>\n",
       "      <td>3</td>\n",
       "      <td>there is a silver like dusting on my skin espe...</td>\n",
       "      <td>[silver, like, dusting, skin, especially, lowe...</td>\n",
       "      <td>[silver, like, dusting, skin, especially, lowe...</td>\n",
       "      <td>silver like dusting skin especially lower back...</td>\n",
       "    </tr>\n",
       "    <tr>\n",
       "      <th>4</th>\n",
       "      <td>Psoriasis</td>\n",
       "      <td>My nails have small dents or pits in them, and...</td>\n",
       "      <td>140</td>\n",
       "      <td>27</td>\n",
       "      <td>3</td>\n",
       "      <td>my nails have small dents or pits in them and ...</td>\n",
       "      <td>[nails, small, dents, pits, often, feel, infla...</td>\n",
       "      <td>[nail, small, dent, pit, often, feel, inflamma...</td>\n",
       "      <td>nails small dents pits often feel inflammatory...</td>\n",
       "    </tr>\n",
       "  </tbody>\n",
       "</table>\n",
       "</div>"
      ],
      "text/plain": [
       "       label                                               text  char_count  \\\n",
       "0  Psoriasis  I have been experiencing a skin rash on my arm...         141   \n",
       "1  Psoriasis  My skin has been peeling, especially on my kne...         138   \n",
       "2  Psoriasis  I have been experiencing joint pain in my fing...         148   \n",
       "3  Psoriasis  There is a silver like dusting on my skin, esp...         164   \n",
       "4  Psoriasis  My nails have small dents or pits in them, and...         140   \n",
       "\n",
       "   word_count  sentence_count  \\\n",
       "0          28               3   \n",
       "1          23               3   \n",
       "2          28               3   \n",
       "3          32               3   \n",
       "4          27               3   \n",
       "\n",
       "                                        cleaned_text  \\\n",
       "0  i have been experiencing a skin rash on my arm...   \n",
       "1  my skin has been peeling especially on my knee...   \n",
       "2  i have been experiencing joint pain in my fing...   \n",
       "3  there is a silver like dusting on my skin espe...   \n",
       "4  my nails have small dents or pits in them and ...   \n",
       "\n",
       "                                      tokenized_text  \\\n",
       "0  [experiencing, skin, rash, arms, legs, torso, ...   \n",
       "1  [skin, peeling, especially, knees, elbows, sca...   \n",
       "2  [experiencing, joint, pain, fingers, wrists, k...   \n",
       "3  [silver, like, dusting, skin, especially, lowe...   \n",
       "4  [nails, small, dents, pits, often, feel, infla...   \n",
       "\n",
       "                                     lemmatized_text  \\\n",
       "0  [experiencing, skin, rash, arm, leg, torso, pa...   \n",
       "1  [skin, peeling, especially, knee, elbow, scalp...   \n",
       "2  [experiencing, joint, pain, finger, wrist, kne...   \n",
       "3  [silver, like, dusting, skin, especially, lowe...   \n",
       "4  [nail, small, dent, pit, often, feel, inflamma...   \n",
       "\n",
       "                                            document  \n",
       "0  experiencing skin rash arms legs torso past we...  \n",
       "1  skin peeling especially knees elbows scalp pee...  \n",
       "2  experiencing joint pain fingers wrists knees p...  \n",
       "3  silver like dusting skin especially lower back...  \n",
       "4  nails small dents pits often feel inflammatory...  "
      ]
     },
     "execution_count": 11,
     "metadata": {},
     "output_type": "execute_result"
    }
   ],
   "source": [
    "data.head()"
   ]
  },
  {
   "cell_type": "code",
   "execution_count": 12,
   "id": "c4de5e81",
   "metadata": {},
   "outputs": [
    {
     "data": {
      "text/plain": [
       "Index(['label', 'text', 'char_count', 'word_count', 'sentence_count',\n",
       "       'cleaned_text', 'tokenized_text', 'lemmatized_text', 'document'],\n",
       "      dtype='object')"
      ]
     },
     "execution_count": 12,
     "metadata": {},
     "output_type": "execute_result"
    }
   ],
   "source": [
    "data.columns"
   ]
  },
  {
   "cell_type": "markdown",
   "id": "b49f41fc",
   "metadata": {},
   "source": [
    "## Modelling "
   ]
  },
  {
   "cell_type": "code",
   "execution_count": 13,
   "id": "1a3ac6a2",
   "metadata": {},
   "outputs": [],
   "source": [
    "le = LabelEncoder()\n",
    "data[\"label_code\"] = le.fit_transform(data['label'])"
   ]
  },
  {
   "cell_type": "code",
   "execution_count": 14,
   "id": "4659cfa1",
   "metadata": {},
   "outputs": [
    {
     "data": {
      "text/plain": [
       "Index(['label', 'text', 'char_count', 'word_count', 'sentence_count',\n",
       "       'cleaned_text', 'tokenized_text', 'lemmatized_text', 'document',\n",
       "       'label_code'],\n",
       "      dtype='object')"
      ]
     },
     "execution_count": 14,
     "metadata": {},
     "output_type": "execute_result"
    }
   ],
   "source": [
    "data.columns"
   ]
  },
  {
   "cell_type": "code",
   "execution_count": 15,
   "id": "7bc34822",
   "metadata": {},
   "outputs": [
    {
     "data": {
      "text/plain": [
       "label\n",
       "Psoriasis                          50\n",
       "Varicose Veins                     50\n",
       "peptic ulcer disease               50\n",
       "drug reaction                      50\n",
       "gastroesophageal reflux disease    50\n",
       "allergy                            50\n",
       "urinary tract infection            50\n",
       "Malaria                            50\n",
       "Jaundice                           50\n",
       "Cervical spondylosis               50\n",
       "Migraine                           50\n",
       "Hypertension                       50\n",
       "Bronchial Asthma                   50\n",
       "Acne                               50\n",
       "Arthritis                          50\n",
       "Dimorphic Hemorrhoids              50\n",
       "Pneumonia                          50\n",
       "Common Cold                        50\n",
       "Fungal infection                   50\n",
       "Dengue                             50\n",
       "Impetigo                           50\n",
       "Chicken pox                        50\n",
       "Typhoid                            50\n",
       "diabetes                           50\n",
       "Name: count, dtype: int64"
      ]
     },
     "execution_count": 15,
     "metadata": {},
     "output_type": "execute_result"
    }
   ],
   "source": [
    "data[\"label\"].value_counts()"
   ]
  },
  {
   "cell_type": "code",
   "execution_count": 16,
   "id": "cc09d7d6",
   "metadata": {},
   "outputs": [
    {
     "data": {
      "text/html": [
       "<div>\n",
       "<style scoped>\n",
       "    .dataframe tbody tr th:only-of-type {\n",
       "        vertical-align: middle;\n",
       "    }\n",
       "\n",
       "    .dataframe tbody tr th {\n",
       "        vertical-align: top;\n",
       "    }\n",
       "\n",
       "    .dataframe thead th {\n",
       "        text-align: right;\n",
       "    }\n",
       "</style>\n",
       "<table border=\"1\" class=\"dataframe\">\n",
       "  <thead>\n",
       "    <tr style=\"text-align: right;\">\n",
       "      <th></th>\n",
       "      <th>label</th>\n",
       "      <th>label_code</th>\n",
       "    </tr>\n",
       "  </thead>\n",
       "  <tbody>\n",
       "    <tr>\n",
       "      <th>0</th>\n",
       "      <td>Psoriasis</td>\n",
       "      <td>15</td>\n",
       "    </tr>\n",
       "    <tr>\n",
       "      <th>1</th>\n",
       "      <td>Psoriasis</td>\n",
       "      <td>15</td>\n",
       "    </tr>\n",
       "    <tr>\n",
       "      <th>2</th>\n",
       "      <td>Psoriasis</td>\n",
       "      <td>15</td>\n",
       "    </tr>\n",
       "    <tr>\n",
       "      <th>3</th>\n",
       "      <td>Psoriasis</td>\n",
       "      <td>15</td>\n",
       "    </tr>\n",
       "    <tr>\n",
       "      <th>4</th>\n",
       "      <td>Psoriasis</td>\n",
       "      <td>15</td>\n",
       "    </tr>\n",
       "    <tr>\n",
       "      <th>...</th>\n",
       "      <td>...</td>\n",
       "      <td>...</td>\n",
       "    </tr>\n",
       "    <tr>\n",
       "      <th>1195</th>\n",
       "      <td>diabetes</td>\n",
       "      <td>19</td>\n",
       "    </tr>\n",
       "    <tr>\n",
       "      <th>1196</th>\n",
       "      <td>diabetes</td>\n",
       "      <td>19</td>\n",
       "    </tr>\n",
       "    <tr>\n",
       "      <th>1197</th>\n",
       "      <td>diabetes</td>\n",
       "      <td>19</td>\n",
       "    </tr>\n",
       "    <tr>\n",
       "      <th>1198</th>\n",
       "      <td>diabetes</td>\n",
       "      <td>19</td>\n",
       "    </tr>\n",
       "    <tr>\n",
       "      <th>1199</th>\n",
       "      <td>diabetes</td>\n",
       "      <td>19</td>\n",
       "    </tr>\n",
       "  </tbody>\n",
       "</table>\n",
       "<p>1200 rows × 2 columns</p>\n",
       "</div>"
      ],
      "text/plain": [
       "          label  label_code\n",
       "0     Psoriasis          15\n",
       "1     Psoriasis          15\n",
       "2     Psoriasis          15\n",
       "3     Psoriasis          15\n",
       "4     Psoriasis          15\n",
       "...         ...         ...\n",
       "1195   diabetes          19\n",
       "1196   diabetes          19\n",
       "1197   diabetes          19\n",
       "1198   diabetes          19\n",
       "1199   diabetes          19\n",
       "\n",
       "[1200 rows x 2 columns]"
      ]
     },
     "execution_count": 16,
     "metadata": {},
     "output_type": "execute_result"
    }
   ],
   "source": [
    "#View the target columns \n",
    "data[[\"label\",\"label_code\"]]"
   ]
  },
  {
   "cell_type": "code",
   "execution_count": 17,
   "id": "0b948be9",
   "metadata": {},
   "outputs": [],
   "source": [
    "data1 = data.copy()"
   ]
  },
  {
   "cell_type": "code",
   "execution_count": 24,
   "id": "ed0bba60",
   "metadata": {},
   "outputs": [],
   "source": [
    "# data = data.drop(columns = [\"label\"])\n",
    "vectorizer = CountVectorizer()\n",
    "X_vectorized = vectorizer.fit_transform(data[\"document\"])\n",
    "y = data[\"label_code\"]"
   ]
  },
  {
   "cell_type": "code",
   "execution_count": 26,
   "id": "f28049db",
   "metadata": {},
   "outputs": [],
   "source": [
    "X_train,y_train,X_test,y_test = train_test_split(X_vectorized,y,test_size = 0.2,random_state = 42)"
   ]
  },
  {
   "cell_type": "code",
   "execution_count": null,
   "id": "7eb5c0b9",
   "metadata": {},
   "outputs": [
    {
     "name": "stdout",
     "output_type": "stream",
     "text": [
      "Train Accuracy: 1.0\n",
      "Test Accuracy: 0.9766666666666667\n",
      "\n",
      "Classification Report:\n",
      "               precision    recall  f1-score   support\n",
      "\n",
      "           0       1.00      1.00      1.00        10\n",
      "           1       1.00      1.00      1.00        12\n",
      "           2       0.93      1.00      0.97        14\n",
      "           3       1.00      1.00      1.00        11\n",
      "           4       0.80      1.00      0.89        12\n",
      "           5       1.00      0.80      0.89        15\n",
      "           6       1.00      0.93      0.96        14\n",
      "           7       1.00      1.00      1.00        10\n",
      "           8       1.00      1.00      1.00        14\n",
      "           9       1.00      1.00      1.00        13\n",
      "          10       1.00      1.00      1.00        13\n",
      "          11       1.00      1.00      1.00        15\n",
      "          12       1.00      1.00      1.00        14\n",
      "          13       1.00      1.00      1.00        11\n",
      "          14       1.00      1.00      1.00        15\n",
      "          15       1.00      0.89      0.94         9\n",
      "          16       1.00      0.93      0.96        14\n",
      "          17       1.00      1.00      1.00        14\n",
      "          18       1.00      0.92      0.96        12\n",
      "          19       0.92      1.00      0.96        11\n",
      "          20       1.00      1.00      1.00         6\n",
      "          21       1.00      1.00      1.00        15\n",
      "          22       0.87      1.00      0.93        13\n",
      "          23       1.00      1.00      1.00        13\n",
      "\n",
      "    accuracy                           0.98       300\n",
      "   macro avg       0.98      0.98      0.98       300\n",
      "weighted avg       0.98      0.98      0.98       300\n",
      "\n"
     ]
    }
   ],
   "source": [
    "\n",
    "\n",
    "# Encode labels\n",
    "le = LabelEncoder()\n",
    "data[\"label_code\"] = le.fit_transform(data['label'])\n",
    "\n",
    "# Vectorize documents\n",
    "vectorizer = CountVectorizer()\n",
    "X_vectorized = vectorizer.fit_transform(data[\"document\"])\n",
    "y = data[\"label_code\"]\n",
    "\n",
    "# Correct order of train_test_split\n",
    "X_train, X_test, y_train, y_test = train_test_split(\n",
    "    X_vectorized, y, random_state=42\n",
    ")\n",
    "\n",
    "# Train Logistic Regression\n",
    "lr = LogisticRegression(random_state=42, max_iter=1000)  # added max_iter for convergence\n",
    "lr.fit(X_train, y_train)\n",
    "\n",
    "# Predictions\n",
    "y_train_pred = lr.predict(X_train)\n",
    "y_test_pred = lr.predict(X_test)\n",
    "\n",
    "# Evaluation\n",
    "train_accuracy = accuracy_score(y_train, y_train_pred)\n",
    "test_accuracy = accuracy_score(y_test, y_test_pred)\n",
    "\n",
    "print(\"Train Accuracy:\", train_accuracy)\n",
    "print(\"Test Accuracy:\", test_accuracy)\n",
    "print(\"\\nClassification Report:\\n\", classification_report(y_test, y_test_pred))\n"
   ]
  }
 ],
 "metadata": {
  "kernelspec": {
   "display_name": "base",
   "language": "python",
   "name": "python3"
  },
  "language_info": {
   "codemirror_mode": {
    "name": "ipython",
    "version": 3
   },
   "file_extension": ".py",
   "mimetype": "text/x-python",
   "name": "python",
   "nbconvert_exporter": "python",
   "pygments_lexer": "ipython3",
   "version": "3.12.7"
  }
 },
 "nbformat": 4,
 "nbformat_minor": 5
}
