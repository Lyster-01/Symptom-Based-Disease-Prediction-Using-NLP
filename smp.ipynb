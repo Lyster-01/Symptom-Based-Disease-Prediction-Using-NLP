{
 "cells": [
  {
   "cell_type": "code",
   "execution_count": 2,
   "id": "75519602",
   "metadata": {},
   "outputs": [],
   "source": [
    "import pandas as pd \n",
    "import numpy as np\n"
   ]
  },
  {
   "cell_type": "code",
   "execution_count": 3,
   "id": "1912e9e8",
   "metadata": {},
   "outputs": [
    {
     "data": {
      "text/html": [
       "<div>\n",
       "<style scoped>\n",
       "    .dataframe tbody tr th:only-of-type {\n",
       "        vertical-align: middle;\n",
       "    }\n",
       "\n",
       "    .dataframe tbody tr th {\n",
       "        vertical-align: top;\n",
       "    }\n",
       "\n",
       "    .dataframe thead th {\n",
       "        text-align: right;\n",
       "    }\n",
       "</style>\n",
       "<table border=\"1\" class=\"dataframe\">\n",
       "  <thead>\n",
       "    <tr style=\"text-align: right;\">\n",
       "      <th></th>\n",
       "      <th>Unnamed: 0</th>\n",
       "      <th>label</th>\n",
       "      <th>text</th>\n",
       "    </tr>\n",
       "  </thead>\n",
       "  <tbody>\n",
       "    <tr>\n",
       "      <th>0</th>\n",
       "      <td>0</td>\n",
       "      <td>Psoriasis</td>\n",
       "      <td>I have been experiencing a skin rash on my arm...</td>\n",
       "    </tr>\n",
       "    <tr>\n",
       "      <th>1</th>\n",
       "      <td>1</td>\n",
       "      <td>Psoriasis</td>\n",
       "      <td>My skin has been peeling, especially on my kne...</td>\n",
       "    </tr>\n",
       "    <tr>\n",
       "      <th>2</th>\n",
       "      <td>2</td>\n",
       "      <td>Psoriasis</td>\n",
       "      <td>I have been experiencing joint pain in my fing...</td>\n",
       "    </tr>\n",
       "    <tr>\n",
       "      <th>3</th>\n",
       "      <td>3</td>\n",
       "      <td>Psoriasis</td>\n",
       "      <td>There is a silver like dusting on my skin, esp...</td>\n",
       "    </tr>\n",
       "    <tr>\n",
       "      <th>4</th>\n",
       "      <td>4</td>\n",
       "      <td>Psoriasis</td>\n",
       "      <td>My nails have small dents or pits in them, and...</td>\n",
       "    </tr>\n",
       "  </tbody>\n",
       "</table>\n",
       "</div>"
      ],
      "text/plain": [
       "   Unnamed: 0      label                                               text\n",
       "0           0  Psoriasis  I have been experiencing a skin rash on my arm...\n",
       "1           1  Psoriasis  My skin has been peeling, especially on my kne...\n",
       "2           2  Psoriasis  I have been experiencing joint pain in my fing...\n",
       "3           3  Psoriasis  There is a silver like dusting on my skin, esp...\n",
       "4           4  Psoriasis  My nails have small dents or pits in them, and..."
      ]
     },
     "execution_count": 3,
     "metadata": {},
     "output_type": "execute_result"
    }
   ],
   "source": [
    "df = pd.read_csv('Symptom2Disease.csv')\n",
    "df.head()"
   ]
  },
  {
   "cell_type": "code",
   "execution_count": 10,
   "id": "4635611f",
   "metadata": {},
   "outputs": [],
   "source": [
    "\n",
    "\n",
    "def df_report(df):\n",
    "    \"\"\"\n",
    "    Generate a quick report of the dataframe including:\n",
    "    - Shape\n",
    "    - Missing values\n",
    "    - Duplicate rows\n",
    "    - Summary statistics\n",
    "    \"\"\"\n",
    "    \n",
    "    print(\"📊 DataFrame Report\")\n",
    "    print(\"-\" * 40)\n",
    "    \n",
    "    #Basic Information\n",
    "    print('This is the basic information of the dataset \\n')\n",
    "    print(df.info())\n",
    "    \n",
    "    # Shape\n",
    "    print(f\"Shape: {df.shape[0]} rows × {df.shape[1]} columns\\n\")\n",
    "    \n",
    "    # Missing values\n",
    "    print(\"🔍 Missing Values (per column):\")\n",
    "    print(df.isnull().sum(), \"\\n\")\n",
    "    \n",
    "    # Duplicates\n",
    "    print(f\"📝 Duplicate Rows: {df.duplicated().sum()} \\n\")\n",
    "    \n",
    "    # Summary statistics\n",
    "    print(\"📈 Summary Statistics:\")\n",
    "    print(df.describe(include=\"all\").transpose())\n"
   ]
  },
  {
   "cell_type": "code",
   "execution_count": 11,
   "id": "4e2c0d91",
   "metadata": {},
   "outputs": [
    {
     "name": "stdout",
     "output_type": "stream",
     "text": [
      "📊 DataFrame Report\n",
      "----------------------------------------\n",
      "This is the basic information of the dataset \n",
      "\n",
      "<class 'pandas.core.frame.DataFrame'>\n",
      "RangeIndex: 1200 entries, 0 to 1199\n",
      "Data columns (total 3 columns):\n",
      " #   Column      Non-Null Count  Dtype \n",
      "---  ------      --------------  ----- \n",
      " 0   Unnamed: 0  1200 non-null   int64 \n",
      " 1   label       1200 non-null   object\n",
      " 2   text        1200 non-null   object\n",
      "dtypes: int64(1), object(2)\n",
      "memory usage: 28.3+ KB\n",
      "None\n",
      "Shape: 1200 rows × 3 columns\n",
      "\n",
      "🔍 Missing Values (per column):\n",
      "Unnamed: 0    0\n",
      "label         0\n",
      "text          0\n",
      "dtype: int64 \n",
      "\n",
      "📝 Duplicate Rows: 0 \n",
      "\n",
      "📈 Summary Statistics:\n",
      "             count unique                                                top  \\\n",
      "Unnamed: 0  1200.0    NaN                                                NaN   \n",
      "label         1200     24                                          Psoriasis   \n",
      "text          1200   1153  I've been feeling extremely scratchy, sick, an...   \n",
      "\n",
      "           freq   mean        std  min    25%    50%     75%    max  \n",
      "Unnamed: 0  NaN  149.5  86.638166  0.0  74.75  149.5  224.25  299.0  \n",
      "label        50    NaN        NaN  NaN    NaN    NaN     NaN    NaN  \n",
      "text          4    NaN        NaN  NaN    NaN    NaN     NaN    NaN  \n"
     ]
    }
   ],
   "source": [
    "df_report(df)"
   ]
  },
  {
   "cell_type": "code",
   "execution_count": null,
   "id": "924998a7",
   "metadata": {},
   "outputs": [],
   "source": []
  }
 ],
 "metadata": {
  "kernelspec": {
   "display_name": "base",
   "language": "python",
   "name": "python3"
  },
  "language_info": {
   "codemirror_mode": {
    "name": "ipython",
    "version": 3
   },
   "file_extension": ".py",
   "mimetype": "text/x-python",
   "name": "python",
   "nbconvert_exporter": "python",
   "pygments_lexer": "ipython3",
   "version": "3.12.7"
  }
 },
 "nbformat": 4,
 "nbformat_minor": 5
}
